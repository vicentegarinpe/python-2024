{
  "nbformat": 4,
  "nbformat_minor": 0,
  "metadata": {
    "colab": {
      "provenance": []
    },
    "kernelspec": {
      "name": "python3",
      "display_name": "Python 3"
    },
    "language_info": {
      "name": "python"
    }
  },
  "cells": [
    {
      "cell_type": "markdown",
      "source": [
        "lab 4 :"
      ],
      "metadata": {
        "id": "gDNX98yhzRT9"
      }
    },
    {
      "cell_type": "code",
      "source": [
        "import numpy as np\n",
        "import matplotlib.pyplot as plt\n"
      ],
      "metadata": {
        "id": "mY8Mz29pz7tU"
      },
      "execution_count": 29,
      "outputs": []
    },
    {
      "cell_type": "markdown",
      "source": [
        "median ()mean() argmin"
      ],
      "metadata": {
        "id": "xjwYkBCa0r8t"
      }
    },
    {
      "cell_type": "markdown",
      "source": [
        "letra a"
      ],
      "metadata": {
        "id": "iNzoUpJn3BS1"
      }
    },
    {
      "cell_type": "code",
      "execution_count": 30,
      "metadata": {
        "id": "g8I2W_mDtEpU",
        "colab": {
          "base_uri": "https://localhost:8080/"
        },
        "outputId": "7bb5e4c2-2d4a-4b3e-b645-e87594187b46"
      },
      "outputs": [
        {
          "output_type": "execute_result",
          "data": {
            "text/plain": [
              "array([ 1,  2,  3,  4,  5,  6,  7,  8,  9, 10])"
            ]
          },
          "metadata": {},
          "execution_count": 30
        }
      ],
      "source": [
        "array=np.arange(1,11)\n",
        "array\n",
        "\n",
        "\n"
      ]
    },
    {
      "cell_type": "markdown",
      "source": [
        "letra b"
      ],
      "metadata": {
        "id": "ns4hGohV3GmE"
      }
    },
    {
      "cell_type": "code",
      "source": [
        "arrayaleatorio=np.random.randint(1,21,10)\n",
        "arrayaleatorio"
      ],
      "metadata": {
        "colab": {
          "base_uri": "https://localhost:8080/"
        },
        "id": "JUfuX2wY0zE0",
        "outputId": "3555e58d-da0b-4563-a547-451a358a3fe2"
      },
      "execution_count": 31,
      "outputs": [
        {
          "output_type": "execute_result",
          "data": {
            "text/plain": [
              "array([ 9, 10, 16,  9,  1,  2, 12,  2,  6, 10])"
            ]
          },
          "metadata": {},
          "execution_count": 31
        }
      ]
    },
    {
      "cell_type": "markdown",
      "source": [
        "letra c"
      ],
      "metadata": {
        "id": "gcRRr4zH3K2l"
      }
    },
    {
      "cell_type": "code",
      "source": [
        "suma=(array+arrayaleatorio)\n",
        "suma"
      ],
      "metadata": {
        "colab": {
          "base_uri": "https://localhost:8080/"
        },
        "id": "o7f34ukQ1M-8",
        "outputId": "184e3a9b-d9b8-437c-add6-a053e8b3c07c"
      },
      "execution_count": 32,
      "outputs": [
        {
          "output_type": "execute_result",
          "data": {
            "text/plain": [
              "array([10, 12, 19, 13,  6,  8, 19, 10, 15, 20])"
            ]
          },
          "metadata": {},
          "execution_count": 32
        }
      ]
    },
    {
      "cell_type": "markdown",
      "source": [
        "letra d"
      ],
      "metadata": {
        "id": "cYqPIzf74dfo"
      }
    },
    {
      "cell_type": "code",
      "source": [
        "aleatorio=np.random.shuffle(suma)\n",
        "aleatorio"
      ],
      "metadata": {
        "id": "iyw6E_cv2cAs"
      },
      "execution_count": 33,
      "outputs": []
    },
    {
      "cell_type": "code",
      "source": [
        "suma"
      ],
      "metadata": {
        "colab": {
          "base_uri": "https://localhost:8080/"
        },
        "id": "nutTY6Nx4YBW",
        "outputId": "00775cf2-da50-4071-db72-69b9c689e509"
      },
      "execution_count": 34,
      "outputs": [
        {
          "output_type": "execute_result",
          "data": {
            "text/plain": [
              "array([20, 19, 19, 12, 10,  8, 10, 15, 13,  6])"
            ]
          },
          "metadata": {},
          "execution_count": 34
        }
      ]
    },
    {
      "cell_type": "markdown",
      "source": [
        "letra e"
      ],
      "metadata": {
        "id": "ARs07Nkz3P0E"
      }
    },
    {
      "cell_type": "code",
      "source": [
        "#calcular mediana promedio\n",
        "mediana=np.median(suma)"
      ],
      "metadata": {
        "id": "JPrke-c61g10"
      },
      "execution_count": 35,
      "outputs": []
    },
    {
      "cell_type": "code",
      "source": [
        "#promedio\n",
        "promedio=np.mean(suma)\n",
        "promedio"
      ],
      "metadata": {
        "colab": {
          "base_uri": "https://localhost:8080/"
        },
        "id": "nQ-FiE3C2LTM",
        "outputId": "c90a813f-1bca-459e-cbf2-176a3ea7bebd"
      },
      "execution_count": 36,
      "outputs": [
        {
          "output_type": "execute_result",
          "data": {
            "text/plain": [
              "13.2"
            ]
          },
          "metadata": {},
          "execution_count": 36
        }
      ]
    },
    {
      "cell_type": "code",
      "source": [
        "#minimo\n",
        "min=np.argmin(suma)\n",
        "min\n",
        "\n"
      ],
      "metadata": {
        "colab": {
          "base_uri": "https://localhost:8080/"
        },
        "id": "lz1aJRef3R4t",
        "outputId": "a54d24c3-2ce8-4b8c-f979-2666d41dc046"
      },
      "execution_count": 37,
      "outputs": [
        {
          "output_type": "execute_result",
          "data": {
            "text/plain": [
              "9"
            ]
          },
          "metadata": {},
          "execution_count": 37
        }
      ]
    },
    {
      "cell_type": "code",
      "source": [
        "#maximo\n",
        "max=np.argmax(suma)\n",
        "max"
      ],
      "metadata": {
        "colab": {
          "base_uri": "https://localhost:8080/"
        },
        "id": "oYg1gRim3yru",
        "outputId": "723a1316-13c6-43a1-c52a-6b2eb70d104e"
      },
      "execution_count": 38,
      "outputs": [
        {
          "output_type": "execute_result",
          "data": {
            "text/plain": [
              "0"
            ]
          },
          "metadata": {},
          "execution_count": 38
        }
      ]
    },
    {
      "cell_type": "markdown",
      "source": [
        "letra f"
      ],
      "metadata": {
        "id": "q0lMoE1p5YM-"
      }
    },
    {
      "cell_type": "code",
      "source": [
        "#tranformar vector a matriz\n",
        "\n",
        "matriz=suma.reshape(2,5)\n",
        "matriz\n"
      ],
      "metadata": {
        "colab": {
          "base_uri": "https://localhost:8080/"
        },
        "id": "rVGmKVbQ37N8",
        "outputId": "527ba37f-8012-42c8-fdf5-8119935860d4"
      },
      "execution_count": 41,
      "outputs": [
        {
          "output_type": "execute_result",
          "data": {
            "text/plain": [
              "array([[20, 19, 19, 12, 10],\n",
              "       [ 8, 10, 15, 13,  6]])"
            ]
          },
          "metadata": {},
          "execution_count": 41
        }
      ]
    }
  ]
}